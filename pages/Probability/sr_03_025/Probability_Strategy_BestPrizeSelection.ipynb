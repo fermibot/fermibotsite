{
 "cells": [
  {
   "cell_type": "code",
   "execution_count": 1,
   "metadata": {
    "pycharm": {
     "is_executing": true
    }
   },
   "outputs": [],
   "source": [
    "import random\n",
    "import pandas as pd\n"
   ]
  },
  {
   "cell_type": "code",
   "execution_count": 2,
   "metadata": {},
   "outputs": [],
   "source": [
    "# !pip install seaborn"
   ]
  },
  {
   "cell_type": "code",
   "execution_count": null,
   "metadata": {
    "collapsed": false,
    "jupyter": {
     "outputs_hidden": false
    }
   },
   "outputs": [
    {
     "name": "stdout",
     "output_type": "stream",
     "text": [
      "Strategy|N: 20|Iterations: 1000\n",
      "Strategy|N: 20|Iterations: 2000\n",
      "Strategy|N: 20|Iterations: 3000\n",
      "Strategy|N: 20|Iterations: 4000\n",
      "Strategy|N: 20|Iterations: 5000\n"
     ]
    }
   ],
   "source": [
    "df_compiled = {}\n",
    "\n",
    "\n",
    "n = 20\n",
    "for iterations in range(1000, 10000, 1000):\n",
    "    print(f\"Strategy|N: {n}|Iterations: {iterations}\")\n",
    "\n",
    "    df_compiled[iterations] = {}\n",
    "\n",
    "    for reject in range(n):\n",
    "\n",
    "\n",
    "        rejected = [True] * reject + [False] * (n - reject)\n",
    "\n",
    "        wins = []\n",
    "\n",
    "        for _ in range(iterations):\n",
    "            my_list = list(range(n))\n",
    "            random.shuffle(my_list)\n",
    "            df_compiled[iterations][str(reject)] = None\n",
    "\n",
    "            df = pd.DataFrame({'index': range(n), 'prize': my_list, 'reject': rejected})\n",
    "\n",
    "            df['cummax'] = df['prize'].cummax()\n",
    "            df['new'] = (df['prize'] >= df['cummax']) & ~df['reject']\n",
    "\n",
    "            selection = df[df['new']].head(1)\n",
    "            if selection.shape[0] == 1:\n",
    "                wins.append(selection['cummax'].iloc[0])\n",
    "            else:\n",
    "                wins.append(None)\n",
    "\n",
    "        df_compiled[iterations][str(reject)] = wins.count(n - 1)\n",
    "\n",
    "df_compiled = pd.DataFrame(df_compiled)\n",
    "df_compiled"
   ]
  },
  {
   "cell_type": "code",
   "execution_count": null,
   "metadata": {},
   "outputs": [],
   "source": [
    "df_compiled.to_csv('Prbability_Strategy_TheSecretaryProblem.csv')"
   ]
  },
  {
   "cell_type": "code",
   "execution_count": null,
   "metadata": {},
   "outputs": [],
   "source": [
    "import matplotlib.pyplot as plt\n",
    "import seaborn as sns\n",
    "\n",
    "# Convert win counts to success rates\n",
    "success_rates = df_compiled.copy()\n",
    "for iterations in df_compiled.columns:\n",
    "    success_rates[iterations] = df_compiled[iterations] / iterations\n",
    "\n",
    "# Plot settings\n",
    "plt.figure(figsize=(10, 6))\n",
    "sns.set_style(\"whitegrid\")\n",
    "plt.title(f\"Secretary Problem Success Rates (n={n})\", fontsize=14)\n",
    "plt.xlabel(\"Number of Initial Rejects (k)\", fontsize=12)\n",
    "plt.ylabel(\"Success Rate\", fontsize=12)\n",
    "plt.xticks(range(1, 9))\n",
    "\n",
    "# Plot each iteration curve\n",
    "colors = ['red', 'yellow', 'green', 'blue', 'pink', 'black', 'brown']\n",
    "colors = [\n",
    "    '#1f77b4', '#ff7f0e', '#2ca02c', '#d62728', '#9467bd',\n",
    "    '#8c564b', '#e377c2', '#7f7f7f', '#bcbd22', '#17becf',\n",
    "    '#aec7e8', '#ffbb78', '#98df8a', '#ff9896', '#c5b0d5',\n",
    "    '#f7b6d2', '#d64f92', '#12aab5', '#00cc96', '#b892ff',\n",
    "    '#ff9a8a', '#ffd700', '#7fffd4', '#a83c3f'\n",
    "]\n",
    "for i, iterations in enumerate(df_compiled.columns):\n",
    "    plt.plot(\n",
    "        success_rates.index.astype(int),\n",
    "        df_compiled[iterations],\n",
    "        marker='.',\n",
    "        label=f'{iterations} iterations',\n",
    "        color=colors[i]\n",
    "    )\n",
    "\n",
    "# Theoretical optimum line (n/e ≈ 3.678)\n",
    "plt.axvline(x=n/2.718, color='k', linestyle='--', alpha=0.7, label=f'Optimal k (n/e ≈ {n/2.718})')\n",
    "plt.legend()\n",
    "plt.show()"
   ]
  },
  {
   "cell_type": "code",
   "execution_count": null,
   "metadata": {},
   "outputs": [],
   "source": []
  }
 ],
 "metadata": {
  "kernelspec": {
   "display_name": "Python 3 (ipykernel)",
   "language": "python",
   "name": "python3"
  },
  "language_info": {
   "codemirror_mode": {
    "name": "ipython",
    "version": 3
   },
   "file_extension": ".py",
   "mimetype": "text/x-python",
   "name": "python",
   "nbconvert_exporter": "python",
   "pygments_lexer": "ipython3",
   "version": "3.11.0"
  }
 },
 "nbformat": 4,
 "nbformat_minor": 4
}
